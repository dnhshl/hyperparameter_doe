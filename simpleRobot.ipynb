{
  "nbformat": 4,
  "nbformat_minor": 0,
  "metadata": {
    "colab": {
      "name": "Untitled0.ipynb",
      "provenance": [],
      "collapsed_sections": [],
      "authorship_tag": "ABX9TyMttCnTreeyayA47ZM00RZ5",
      "include_colab_link": true
    },
    "kernelspec": {
      "name": "python3",
      "display_name": "Python 3"
    }
  },
  "cells": [
    {
      "cell_type": "markdown",
      "metadata": {
        "id": "view-in-github",
        "colab_type": "text"
      },
      "source": [
        "<a href=\"https://colab.research.google.com/github/dnhshl/hyperparameter_doe/blob/main/simpleRobot.ipynb\" target=\"_parent\"><img src=\"https://colab.research.google.com/assets/colab-badge.svg\" alt=\"Open In Colab\"/></a>"
      ]
    },
    {
      "cell_type": "markdown",
      "metadata": {
        "id": "9boAgRMdmlVN"
      },
      "source": [
        "# simpleRobot\r\n",
        "Neuronales Netz zur Berechnung der inversen Kinematik eines (sehr einfachen) Roboters mit zwei Freiheitsgraden.\r\n",
        "\r\n",
        "\r\n",
        "\r\n"
      ]
    },
    {
      "cell_type": "markdown",
      "metadata": {
        "id": "SIzhfha3lF_f"
      },
      "source": [
        "## Lade notwendige Libraries\r\n"
      ]
    },
    {
      "cell_type": "code",
      "metadata": {
        "id": "7VG9_6c-mkKe",
        "colab": {
          "base_uri": "https://localhost:8080/"
        },
        "outputId": "97944696-b456-444a-a888-984a49ed4fbb"
      },
      "source": [
        "!pip install keras_sequential_ascii\r\n",
        "\r\n",
        "import numpy as np\r\n",
        "import tensorflow as tf\r\n",
        "from tensorflow import keras\r\n",
        "from keras import layers\r\n",
        "from keras import optimizers\r\n",
        "import matplotlib.pyplot as plt\r\n",
        "\r\n",
        "from keras_sequential_ascii import keras2ascii\r\n",
        "\r\n"
      ],
      "execution_count": 12,
      "outputs": [
        {
          "output_type": "stream",
          "text": [
            "Collecting keras_sequential_ascii\n",
            "  Downloading https://files.pythonhosted.org/packages/2d/a4/806e3ed5d7ac7463e2fae77e09ccccc88c78266b248fb637e4efa4f65ec0/keras_sequential_ascii-0.1.1.tar.gz\n",
            "Requirement already satisfied: keras in /usr/local/lib/python3.7/dist-packages (from keras_sequential_ascii) (2.4.3)\n",
            "Requirement already satisfied: h5py in /usr/local/lib/python3.7/dist-packages (from keras->keras_sequential_ascii) (2.10.0)\n",
            "Requirement already satisfied: numpy>=1.9.1 in /usr/local/lib/python3.7/dist-packages (from keras->keras_sequential_ascii) (1.19.5)\n",
            "Requirement already satisfied: scipy>=0.14 in /usr/local/lib/python3.7/dist-packages (from keras->keras_sequential_ascii) (1.4.1)\n",
            "Requirement already satisfied: pyyaml in /usr/local/lib/python3.7/dist-packages (from keras->keras_sequential_ascii) (3.13)\n",
            "Requirement already satisfied: six in /usr/local/lib/python3.7/dist-packages (from h5py->keras->keras_sequential_ascii) (1.15.0)\n",
            "Building wheels for collected packages: keras-sequential-ascii\n",
            "  Building wheel for keras-sequential-ascii (setup.py) ... \u001b[?25l\u001b[?25hdone\n",
            "  Created wheel for keras-sequential-ascii: filename=keras_sequential_ascii-0.1.1-cp37-none-any.whl size=3062 sha256=6e78035cbfebe6a05c1c901923e94f419c1770e53670f9168dde4516aee96b00\n",
            "  Stored in directory: /root/.cache/pip/wheels/f5/8d/81/912666dff82a923ce423a7e797cd75f54271c7031512cdb282\n",
            "Successfully built keras-sequential-ascii\n",
            "Installing collected packages: keras-sequential-ascii\n",
            "Successfully installed keras-sequential-ascii-0.1.1\n"
          ],
          "name": "stdout"
        }
      ]
    },
    {
      "cell_type": "markdown",
      "metadata": {
        "id": "tjCih-kdsqgV"
      },
      "source": [
        "# Daten\r\n",
        "\r\n",
        "Generiere Trainingsdaten. Das ist hier sehr einfach, da bei bekannten Winkeln `phi1` und `phi2` die `x` und `y` Position berechnet werden kann. \r\n",
        "\r\n",
        "Der Einfachheit halber (um auszuschließen, dass gleiche Positionen mit unterschiedlichen Winkelstellungen angefahren werden können) wird `phi1` auf 0 .. 90 Grad und `phi2` auf -90 .. 0 Grad eingeschränkt."
      ]
    },
    {
      "cell_type": "markdown",
      "metadata": {
        "id": "zM-xrVochQw3"
      },
      "source": [
        "## Vorab: Vektoren und Matrizen in numpy"
      ]
    },
    {
      "cell_type": "code",
      "metadata": {
        "colab": {
          "base_uri": "https://localhost:8080/"
        },
        "id": "_wcxMqGdglzc",
        "outputId": "2c6ac717-7f86-4df6-d80d-0c409b424e63"
      },
      "source": [
        "a = np.array([1,2,3]) # Zeilenvektor a\r\n",
        "b = np.array([4,5,6]) # Zeilenvektor b\r\n",
        "\r\n",
        "M = np.vstack((a, b)) # Zusammenfassen als 2x3 Matrix\r\n",
        "\r\n",
        "M = M.T # Transponieren -> 3x2 Matrix\r\n",
        "\r\n",
        "print(a, b)\r\n",
        "print(M)\r\n",
        "\r\n",
        "sum_a_b = M.sum(axis=1) # Summe der Spaltenvektoren\r\n",
        "print(sum_a_b)"
      ],
      "execution_count": 10,
      "outputs": [
        {
          "output_type": "stream",
          "text": [
            "[1 2 3] [4 5 6]\n",
            "[[1 4]\n",
            " [2 5]\n",
            " [3 6]]\n",
            "[5 7 9]\n"
          ],
          "name": "stdout"
        }
      ]
    },
    {
      "cell_type": "markdown",
      "metadata": {
        "id": "QGSqHT2jhu6L"
      },
      "source": [
        "## OK, jetzt also die Trainingsdaten"
      ]
    },
    {
      "cell_type": "code",
      "metadata": {
        "id": "iIbpicffnf5m",
        "colab": {
          "base_uri": "https://localhost:8080/"
        },
        "outputId": "fe81f7b8-ba1b-4bfd-c64a-3b5b995d9f77"
      },
      "source": [
        "l1 = 1  # Länge des ersten Roboterarms\r\n",
        "l2 = 1  # Länge des zweiten Roboterarms\r\n",
        "\r\n",
        "\r\n",
        "def gen_data(size):\r\n",
        "\r\n",
        "  # phi1 im Bereich von 0 .. 90 Grad \r\n",
        "  phi1 = np.random.random_sample(size) * np.pi/2 \r\n",
        "\r\n",
        "  # phi2 im Bereich von 0 .. -90 Grad \r\n",
        "  phi2 = -np.random.random_sample(size) * np.pi/2\r\n",
        "\r\n",
        "  # Kombiniere Vektoren als Matrix\r\n",
        "  dout = np.vstack((phi1, phi2)).T\r\n",
        "\r\n",
        "  # Berechne x und y\r\n",
        "  din = np.array([l1 * np.cos(dout[:,0]) + l2 * np.cos(dout.sum(axis=1)), \r\n",
        "                  l1 * np.sin(dout[:,0]) + l2 * np.sin(dout.sum(axis=1))]).T \r\n",
        "\r\n",
        "  return (din, dout)\r\n",
        "\r\n",
        "traindatasize = 200000 # Wie viele Traingsdaten sollen generiert werden?\r\n",
        "\r\n",
        "(din, dout) = gen_data(traindatasize)\r\n",
        "\r\n",
        "print(dout[:4])\r\n",
        "print(din[:4])\r\n",
        "\r\n",
        "\r\n"
      ],
      "execution_count": 8,
      "outputs": [
        {
          "output_type": "stream",
          "text": [
            "[[ 0.33927327 -0.4553461 ]\n",
            " [ 0.8808725  -1.40389079]\n",
            " [ 0.04154506 -0.12179294]\n",
            " [ 0.45735775 -1.10074064]]\n",
            "[[ 1.93626788  0.21698951]\n",
            " [ 1.50279393  0.2717973 ]\n",
            " [ 1.99591899 -0.03862868]\n",
            " [ 1.69729332 -0.15832645]]\n"
          ],
          "name": "stdout"
        }
      ]
    },
    {
      "cell_type": "markdown",
      "metadata": {
        "id": "kRzODsqJmVyB"
      },
      "source": [
        "## Welcher Bereich `(x, y)` kann vom Roboter erreicht werden?"
      ]
    },
    {
      "cell_type": "code",
      "metadata": {
        "colab": {
          "base_uri": "https://localhost:8080/",
          "height": 279
        },
        "id": "HSJjIKamvhV1",
        "outputId": "d25afb29-3dd0-42ee-a8a6-fe541112677e"
      },
      "source": [
        "\r\n",
        "def plot_range():\r\n",
        "  plt.scatter(din[:200,0], din[:200,1])\r\n",
        "  plt.xlabel('x')\r\n",
        "  plt.ylabel('y')\r\n",
        "  plt.xlim(0,2.5)\r\n",
        "  plt.grid(True)\r\n",
        "  plt.gca().set_aspect(\"equal\")\r\n",
        "\r\n",
        "\r\n",
        "plot_range()"
      ],
      "execution_count": 41,
      "outputs": [
        {
          "output_type": "display_data",
          "data": {
            "image/png": "[encoded data removed]",
            "text/plain": [
              "<Figure size 432x288 with 1 Axes>"
            ]
          },
          "metadata": {
            "tags": [],
            "needs_background": "light"
          }
        }
      ]
    },
    {
      "cell_type": "markdown",
      "metadata": {
        "id": "KcBfGA3EkHrY"
      },
      "source": [
        "# NN\r\n",
        "\r\n",
        "Zwei Fully Connected Layer, der erste Layer mit Aktivierungsfunktion.\r\n",
        "\r\n",
        "Als Fehlerfunktion wird der quadratische Fehler genutzt. Sie können auch [andere Loss Functions](https://keras.io/api/losses/) ausprobieren.\r\n",
        "\r\n",
        "Testen Sie auch verschiedene [Optimizer](https://keras.io/api/optimizers/) ."
      ]
    },
    {
      "cell_type": "markdown",
      "metadata": {
        "id": "wGXx8H8NsP8T"
      },
      "source": [
        "## Hyperparameter"
      ]
    },
    {
      "cell_type": "code",
      "metadata": {
        "id": "58mIV_DGsTl1"
      },
      "source": [
        "# Netzwerkparameter\r\n",
        "\r\n",
        "layer1size = 100\r\n",
        "layer2size = 100\r\n",
        "\r\n",
        "# Trainingsparameter\r\n",
        "\r\n",
        "myoptimizer = optimizers.Adam\r\n",
        "learning_rate = 0.01\r\n",
        "batch_size = 32\r\n",
        "epochs = 10"
      ],
      "execution_count": 24,
      "outputs": []
    },
    {
      "cell_type": "markdown",
      "metadata": {
        "id": "edNkRU_JtHHG"
      },
      "source": [
        "## Konstruiere NN"
      ]
    },
    {
      "cell_type": "code",
      "metadata": {
        "id": "2aiSNRJGkbEF"
      },
      "source": [
        "def build_and_compile_model():\r\n",
        "  model = keras.Sequential([\r\n",
        "      layers.Dense(layer1size, input_shape=[2,], activation='tanh'),\r\n",
        "      layers.Dense(layer2size, activation='tanh'),\r\n",
        "      layers.Dense(2)     ## output\r\n",
        "  ])\r\n",
        "\r\n",
        "  model.compile(loss='mean_squared_error',\r\n",
        "                optimizer=myoptimizer(learning_rate=0.01))\r\n",
        "  return model"
      ],
      "execution_count": 25,
      "outputs": []
    },
    {
      "cell_type": "code",
      "metadata": {
        "colab": {
          "base_uri": "https://localhost:8080/"
        },
        "id": "4eCN_8bjuzwX",
        "outputId": "04df2c16-028d-4397-8f5f-b7e0e279f5e2"
      },
      "source": [
        "mymodel = build_and_compile_model()\r\n",
        "mymodel.summary()\r\n",
        "\r\n",
        "print()\r\n",
        "print('________________________')\r\n",
        "print('NN Struktur in Ascii Art')\r\n",
        "print('________________________')\r\n",
        "print()\r\n",
        "\r\n",
        "keras2ascii(mymodel)\r\n"
      ],
      "execution_count": 26,
      "outputs": [
        {
          "output_type": "stream",
          "text": [
            "Model: \"sequential_3\"\n",
            "_________________________________________________________________\n",
            "Layer (type)                 Output Shape              Param #   \n",
            "=================================================================\n",
            "dense_9 (Dense)              (None, 100)               300       \n",
            "_________________________________________________________________\n",
            "dense_10 (Dense)             (None, 100)               10100     \n",
            "_________________________________________________________________\n",
            "dense_11 (Dense)             (None, 2)                 202       \n",
            "=================================================================\n",
            "Total params: 10,602\n",
            "Trainable params: 10,602\n",
            "Non-trainable params: 0\n",
            "_________________________________________________________________\n",
            "\n",
            "________________________\n",
            "NN Struktur in Ascii Art\n",
            "________________________\n",
            "\n",
            "           OPERATION           DATA DIMENSIONS   WEIGHTS(N)   WEIGHTS(%)\n",
            "\n",
            "               Input   #####           2\n",
            "               Dense   XXXXX -------------------       300     2.8%\n",
            "                tanh   #####         100\n",
            "               Dense   XXXXX -------------------     10100    95.3%\n",
            "                tanh   #####         100\n",
            "               Dense   XXXXX -------------------       202     1.9%\n",
            "                       #####           2\n"
          ],
          "name": "stdout"
        }
      ]
    },
    {
      "cell_type": "markdown",
      "metadata": {
        "id": "eEdRTD2RnArc"
      },
      "source": [
        "## Trainiere Modell\r\n",
        "\r\n",
        "Nutze 20% der Testdaten als Validierungsdatensatz"
      ]
    },
    {
      "cell_type": "code",
      "metadata": {
        "colab": {
          "base_uri": "https://localhost:8080/"
        },
        "id": "iKwfxq5HyCrt",
        "outputId": "cd8648a2-e453-4e51-bfbd-9f0196e6d398"
      },
      "source": [
        "\r\n",
        "\r\n",
        "history = mymodel.fit(din, dout,\r\n",
        "          batch_size=batch_size, epochs=epochs,\r\n",
        "          validation_split = 0.2)"
      ],
      "execution_count": 36,
      "outputs": [
        {
          "output_type": "stream",
          "text": [
            "Epoch 1/10\n",
            "5000/5000 [==============================] - 7s 1ms/step - loss: 0.0022 - val_loss: 0.0011\n",
            "Epoch 2/10\n",
            "5000/5000 [==============================] - 9s 2ms/step - loss: 0.0033 - val_loss: 0.0020\n",
            "Epoch 3/10\n",
            "5000/5000 [==============================] - 7s 1ms/step - loss: 0.0019 - val_loss: 7.9265e-04\n",
            "Epoch 4/10\n",
            "5000/5000 [==============================] - 7s 1ms/step - loss: 0.0017 - val_loss: 0.0010\n",
            "Epoch 5/10\n",
            "5000/5000 [==============================] - 7s 1ms/step - loss: 0.0034 - val_loss: 0.0014\n",
            "Epoch 6/10\n",
            "5000/5000 [==============================] - 7s 1ms/step - loss: 0.0015 - val_loss: 5.7695e-04\n",
            "Epoch 7/10\n",
            "5000/5000 [==============================] - 7s 1ms/step - loss: 0.0014 - val_loss: 0.0012\n",
            "Epoch 8/10\n",
            "5000/5000 [==============================] - 7s 1ms/step - loss: 0.0018 - val_loss: 3.9830e-04\n",
            "Epoch 9/10\n",
            "5000/5000 [==============================] - 7s 1ms/step - loss: 0.0012 - val_loss: 0.0053\n",
            "Epoch 10/10\n",
            "5000/5000 [==============================] - 7s 1ms/step - loss: 0.0023 - val_loss: 7.3513e-04\n"
          ],
          "name": "stdout"
        }
      ]
    },
    {
      "cell_type": "code",
      "metadata": {
        "colab": {
          "base_uri": "https://localhost:8080/",
          "height": 279
        },
        "id": "-C1SzkvdA-tQ",
        "outputId": "79596018-afdb-4fdb-9552-f27400fc4580"
      },
      "source": [
        "\r\n",
        "\r\n",
        "def plot_loss(history):\r\n",
        "  plt.plot(history.history['loss'], label='loss')\r\n",
        "  plt.plot(history.history['val_loss'], label='val_loss')\r\n",
        "  plt.xlabel('Epoch')\r\n",
        "  plt.ylabel('Error')\r\n",
        "  plt.legend()\r\n",
        "  plt.grid(True)\r\n",
        "\r\n",
        "plot_loss(history)"
      ],
      "execution_count": 37,
      "outputs": [
        {
          "output_type": "display_data",
          "data": {
            "image/png": "[encoded data removed]",
            "text/plain": [
              "<Figure size 432x288 with 1 Axes>"
            ]
          },
          "metadata": {
            "tags": [],
            "needs_background": "light"
          }
        }
      ]
    },
    {
      "cell_type": "markdown",
      "metadata": {
        "id": "4-sNaAdYt9en"
      },
      "source": [
        "## Teste trainiertes Modell"
      ]
    },
    {
      "cell_type": "code",
      "metadata": {
        "colab": {
          "base_uri": "https://localhost:8080/"
        },
        "id": "DOrEnj_b0UhR",
        "outputId": "24a58144-6488-44cd-c292-9ddabede2ffa"
      },
      "source": [
        "testdatasize = 100\r\n",
        "\r\n",
        "(testdata_in, testdata_out) = gen_data(testdatasize)\r\n",
        "\r\n",
        "predictions = mymodel.predict(testdata_in)\r\n",
        "\r\n",
        "\r\n",
        "for i in range(10):\r\n",
        "  print(predictions[i], testdata_out[i])"
      ],
      "execution_count": 38,
      "outputs": [
        {
          "output_type": "stream",
          "text": [
            "[ 0.27896965 -0.13811213] [ 0.20895911 -0.02486708]\n",
            "[ 0.4038282  -0.51992077] [ 0.39822401 -0.5319136 ]\n",
            "[ 0.7151596 -1.0808456] [ 0.71797844 -1.11093271]\n",
            "[ 0.04173994 -0.84287757] [ 0.06078311 -0.8890658 ]\n",
            "[ 1.4717311 -0.9650646] [ 1.47883896 -1.01088071]\n",
            "[ 1.0363598  -0.19586217] [ 1.04267234 -0.22581177]\n",
            "[ 0.74792635 -0.9501055 ] [ 0.75068928 -0.98159512]\n",
            "[ 1.0011431  -0.47369337] [ 1.00589682 -0.48147511]\n",
            "[ 0.1172999 -0.4068613] [ 0.11584539 -0.4325089 ]\n",
            "[ 1.3237551  -0.25412244] [ 1.32519237 -0.27339063]\n"
          ],
          "name": "stdout"
        }
      ]
    },
    {
      "cell_type": "markdown",
      "metadata": {
        "id": "Di_LHbu5yxPL"
      },
      "source": [
        "## Teste verschiedene Trajektorien"
      ]
    },
    {
      "cell_type": "code",
      "metadata": {
        "id": "VYwdmG6VCRhV",
        "colab": {
          "base_uri": "https://localhost:8080/",
          "height": 761
        },
        "outputId": "c06a7af5-8e66-486f-bf66-a22b28b06854"
      },
      "source": [
        "# Gerade\r\n",
        "xtest1 = np.linspace(1.5,1.7)\r\n",
        "ytest1 = 1/0.2*(xtest-1.5) -0.5\r\n",
        "\r\n",
        "# Parabel\r\n",
        "xtest2 = np.linspace(1, 1.8)\r\n",
        "ytest2 = -0.5*xtest2*xtest2 +2\r\n",
        "\r\n",
        "# Kreisbogen\r\n",
        "xtest3 = np.linspace(-0.1, 0.1)\r\n",
        "ytest3 = np.sqrt(0.1*0.1 - xtest3*xtest3)\r\n",
        "xtest3 = xtest3 + 1.6\r\n",
        "ytest3 = ytest3 - 0.4\r\n",
        "\r\n",
        "\r\n",
        "def plot_trajectory(x, y):\r\n",
        "  plt.figure()\r\n",
        "  plt.plot(x,y, label='soll')\r\n",
        "  phipred = mymodel.predict(np.vstack((x, y)).T)\r\n",
        "\r\n",
        "  # Berechne x und y\r\n",
        "  xpred = l1 * np.cos(phipred[:,0]) + l2 * np.cos(phipred.sum(axis=1))\r\n",
        "  ypred = l1 * np.sin(phipred[:,0]) + l2 * np.sin(phipred.sum(axis=1))\r\n",
        "\r\n",
        "  plt.plot(xpred, ypred, label='ist')\r\n",
        "  plt.grid(True)\r\n",
        "  plt.legend()\r\n",
        "\r\n",
        "\r\n",
        "plot_trajectory(xtest1, ytest1)\r\n",
        "\r\n",
        "plot_trajectory(xtest2, ytest2)\r\n",
        "\r\n",
        "plot_trajectory(xtest3, ytest3)\r\n",
        "\r\n"
      ],
      "execution_count": 40,
      "outputs": [
        {
          "output_type": "display_data",
          "data": {
            "image/png": "[encoded data removed]",
            "text/plain": [
              "<Figure size 432x288 with 1 Axes>"
            ]
          },
          "metadata": {
            "tags": [],
            "needs_background": "light"
          }
        },
        {
          "output_type": "display_data",
          "data": {
            "image/png": "[encoded data removed]",
            "text/plain": [
              "<Figure size 432x288 with 1 Axes>"
            ]
          },
          "metadata": {
            "tags": [],
            "needs_background": "light"
          }
        },
        {
          "output_type": "display_data",
          "data": {
            "image/png": "[encoded data removed]",
            "text/plain": [
              "<Figure size 432x288 with 1 Axes>"
            ]
          },
          "metadata": {
            "tags": [],
            "needs_background": "light"
          }
        }
      ]
    }
  ]
}